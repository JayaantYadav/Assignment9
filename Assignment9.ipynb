{
 "cells": [
  {
   "cell_type": "markdown",
   "id": "394bc714-b26e-4835-9595-a98356de34f1",
   "metadata": {},
   "source": [
    "Q1. What is Abstraction in OOps? Explain with an example."
   ]
  },
  {
   "cell_type": "code",
   "execution_count": 4,
   "id": "7fc7e929-4ec5-4cd7-8178-d247332518fe",
   "metadata": {},
   "outputs": [
    {
     "name": "stdout",
     "output_type": "stream",
     "text": [
      "Jayant Yadav\n",
      "Hapur, UP AACC6874K 9192939495\n",
      "Chinese Python Programming A+\n"
     ]
    }
   ],
   "source": [
    "'''Abstraction in python is defined as a process of handling complexity by hiding unnecessary information\n",
    "from the user. This is one of the core concepts of object-oriented programming (OOP) languages.\n",
    "That enables the user to implement even more complex logic on top of the provided abstraction\n",
    "without understanding or even thinking about all the hidden background/back-end complexity.'''\n",
    "\n",
    "class Person:\n",
    "    def __init__(self):\n",
    "        self.name = \"Jayant Yadav\"\n",
    "\n",
    "    def bio(self):\n",
    "        self.addr = \"Hapur, UP\"\n",
    "        self.taxInfo = \"AACC6874K\"\n",
    "        self.contact = \"9192939495\"\n",
    "        print(self.addr, self.taxInfo, self.contact)\n",
    "\n",
    "    def interest(self):\n",
    "        self.favFood = \"Chinese\"\n",
    "        self.hobbies = \"Python Programming\"\n",
    "        self.bloodGroup = \"A+\"\n",
    "        print(self.favFood, self.hobbies, self.bloodGroup)\n",
    "\n",
    "obj = Person()\n",
    "print(obj.name)\n",
    "obj.bio()\n",
    "obj.interest()"
   ]
  },
  {
   "cell_type": "markdown",
   "id": "a6a60f1e-98d8-4a63-bd8f-d4197fe83856",
   "metadata": {},
   "source": [
    "Q2. Differentiate between Abstraction and Encapsulation. Explain with an example."
   ]
  },
  {
   "cell_type": "code",
   "execution_count": 3,
   "id": "afe80973-8c3c-415d-9aa6-482ea3601903",
   "metadata": {},
   "outputs": [
    {
     "name": "stdout",
     "output_type": "stream",
     "text": [
      "Name:  Jayant Salary: 8000\n",
      "Jayant is working on DS\n"
     ]
    }
   ],
   "source": [
    "'''Encapsulation is basically binding data members & member functions into a single unit called Class.\n",
    "Whereas Abstraction is basically to hide implementation complexity & provide ease of access to the users.'''\n",
    "\n",
    "'Encapsulation Example:'\n",
    "class Employee:\n",
    "    def __init__(self, name, salary, project):\n",
    "        self.name = name\n",
    "        self.salary = salary\n",
    "        self.project = project\n",
    "\n",
    "    \n",
    "    def show(self):\n",
    "        print(\"Name: \", self.name, 'Salary:', self.salary)\n",
    "\n",
    "    def work(self):\n",
    "        print(self.name, 'is working on', self.project)\n",
    "\n",
    "\n",
    "emp = Employee('Jayant', 8000, 'DS')\n",
    "\n",
    "# calling public method of the class\n",
    "emp.show()\n",
    "emp.work()"
   ]
  },
  {
   "cell_type": "code",
   "execution_count": 5,
   "id": "811b3758-77c3-4600-a206-611950c57bdf",
   "metadata": {},
   "outputs": [
    {
     "name": "stdout",
     "output_type": "stream",
     "text": [
      "ABHISHEK\n",
      "Noida, UP BBCC6874K 8182834575\n",
      "South Indian Python Programming B+\n"
     ]
    }
   ],
   "source": [
    "'Abstraction Example'\n",
    "class Person:\n",
    "    def __init__(self):\n",
    "        self.name = \"ABHISHEK\"\n",
    "\n",
    "    def bio(self):\n",
    "        self.addr = \"Noida, UP\"\n",
    "        self.taxInfo = \"BBCC6874K\"\n",
    "        self.contact = \"8182834575\"\n",
    "        print(self.addr, self.taxInfo, self.contact)\n",
    "\n",
    "    def interest(self):\n",
    "        self.favFood = \"South Indian\"\n",
    "        self.hobbies = \"Python Programming\"\n",
    "        self.bloodGroup = \"B+\"\n",
    "        print(self.favFood, self.hobbies, self.bloodGroup)\n",
    "\n",
    "obj = Person()\n",
    "print(obj.name)\n",
    "obj.bio()\n",
    "obj.interest()\n"
   ]
  },
  {
   "cell_type": "markdown",
   "id": "cd9c456c-1665-440c-bd5d-7845ddaff137",
   "metadata": {},
   "source": [
    "Q3. What is abc module in python? Why is it used?"
   ]
  },
  {
   "cell_type": "markdown",
   "id": "f0b24cd4-7c80-405a-b785-83c2d1e36b40",
   "metadata": {},
   "source": [
    "The 'abc' module in the Python library provides the infrastructure for defining custom abstract\n",
    "base classes. Abstract class cannot be instantiated in python. An Abstract method can be call by \n",
    "its subclasses."
   ]
  },
  {
   "cell_type": "markdown",
   "id": "735281b5-05cb-457e-9f92-4e38a0e54005",
   "metadata": {},
   "source": [
    "Q4. How can we achieve data abstraction?"
   ]
  },
  {
   "cell_type": "markdown",
   "id": "c1d67a76-fa1d-4f4b-a342-4a66ddd25b7d",
   "metadata": {},
   "source": [
    "In Python, abstraction can be achieved by using abstract classes and interfaces. \n",
    "A class that consists of one or more abstract method is called the abstract class. \n",
    "Abstract methods do not contain their implementation."
   ]
  },
  {
   "cell_type": "markdown",
   "id": "aa9f648e-28bf-40a6-adf0-767ccd203f8f",
   "metadata": {},
   "source": [
    "Q5. Can we create an instance of an abstract class? Explain your answer."
   ]
  },
  {
   "cell_type": "markdown",
   "id": "4b81a541-ce48-4832-821f-7acd1aae2139",
   "metadata": {},
   "source": [
    "Abstract classes are not complete, as they may have some methods that are not defined.\n",
    "So we cannot create an instance or object of an abstract class in Python."
   ]
  },
  {
   "cell_type": "code",
   "execution_count": null,
   "id": "817ee3a0-80ca-4cc0-9770-69e02f161640",
   "metadata": {},
   "outputs": [],
   "source": []
  }
 ],
 "metadata": {
  "kernelspec": {
   "display_name": "Python 3 (ipykernel)",
   "language": "python",
   "name": "python3"
  },
  "language_info": {
   "codemirror_mode": {
    "name": "ipython",
    "version": 3
   },
   "file_extension": ".py",
   "mimetype": "text/x-python",
   "name": "python",
   "nbconvert_exporter": "python",
   "pygments_lexer": "ipython3",
   "version": "3.10.8"
  }
 },
 "nbformat": 4,
 "nbformat_minor": 5
}
